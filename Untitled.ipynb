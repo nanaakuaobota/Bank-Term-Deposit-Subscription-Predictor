{
 "cells": [
  {
   "cell_type": "markdown",
   "id": "4a982ea1-9ae3-48af-92ca-f967c169b38b",
   "metadata": {},
   "source": [
    "Importing neccesary libraries"
   ]
  },
  {
   "cell_type": "code",
   "execution_count": 1,
   "id": "541ae359-ddc3-4c8c-a4db-c6b2f9dfe0be",
   "metadata": {},
   "outputs": [],
   "source": [
    "import pandas as pd \n",
    "import numpy as np\n",
    "import matplotlib.pyplot as plt\n",
    "import seaborn as sns"
   ]
  },
  {
   "cell_type": "markdown",
   "id": "f9434456-acfd-4844-ae51-003635d52f97",
   "metadata": {},
   "source": [
    "Importing Data"
   ]
  },
  {
   "cell_type": "code",
   "execution_count": 6,
   "id": "8ac069d3-4719-4568-a6af-39ab20f62185",
   "metadata": {},
   "outputs": [
    {
     "data": {
      "text/plain": [
       "(4521, 17)"
      ]
     },
     "execution_count": 6,
     "metadata": {},
     "output_type": "execute_result"
    }
   ],
   "source": [
    "df2.shape"
   ]
  },
  {
   "cell_type": "code",
   "execution_count": null,
   "id": "1a2e0979-311e-4e6d-aabb-8c080003f5be",
   "metadata": {},
   "outputs": [],
   "source": []
  },
  {
   "cell_type": "code",
   "execution_count": null,
   "id": "c9a5c43d-db25-4524-b199-722aaf037c5a",
   "metadata": {},
   "outputs": [],
   "source": [
    "df =pd.read_csv('bank-additional-full.csv',sep=';') \n",
    "df.head(10)"
   ]
  },
  {
   "cell_type": "markdown",
   "id": "d3054470-648d-461b-847d-eb7fbeb1eb82",
   "metadata": {},
   "source": [
    "EDA\n"
   ]
  },
  {
   "cell_type": "code",
   "execution_count": null,
   "id": "209fa68c-522d-4a9c-88c5-fc792515776f",
   "metadata": {},
   "outputs": [],
   "source": [
    "df.shape"
   ]
  },
  {
   "cell_type": "code",
   "execution_count": null,
   "id": "664bd4d3-9217-4d30-a037-11231b1b1f71",
   "metadata": {},
   "outputs": [],
   "source": [
    "df.info()"
   ]
  },
  {
   "cell_type": "code",
   "execution_count": null,
   "id": "cf194103-86f2-406f-a2ec-02f5433e119b",
   "metadata": {},
   "outputs": [],
   "source": [
    "df.describe(include='all')"
   ]
  },
  {
   "cell_type": "code",
   "execution_count": null,
   "id": "a17b38ee-a33c-411a-9d0e-a0518542b4a9",
   "metadata": {},
   "outputs": [],
   "source": [
    "df.isnull().sum()"
   ]
  },
  {
   "cell_type": "code",
   "execution_count": null,
   "id": "6a60eff1-45c5-4152-89dd-59d64f013db7",
   "metadata": {},
   "outputs": [],
   "source": [
    "### fishing out duplicates\n",
    "\n",
    "df[df.duplicated(keep=False)]\n",
    "\n"
   ]
  },
  {
   "cell_type": "code",
   "execution_count": null,
   "id": "77279945-5863-4220-b88e-1954c47feb36",
   "metadata": {},
   "outputs": [],
   "source": [
    "df=df.drop_duplicates()"
   ]
  },
  {
   "cell_type": "code",
   "execution_count": null,
   "id": "603f29a7-2adc-4437-91ab-ea02022a817d",
   "metadata": {},
   "outputs": [],
   "source": [
    "df"
   ]
  },
  {
   "cell_type": "code",
   "execution_count": null,
   "id": "761a0166-37f1-4deb-8010-e81caa763bad",
   "metadata": {},
   "outputs": [],
   "source": [
    "df.duplicated().sum()"
   ]
  },
  {
   "cell_type": "code",
   "execution_count": null,
   "id": "b0fdf466-50ad-426b-a1d4-7466df8a3179",
   "metadata": {},
   "outputs": [],
   "source": [
    "categorical_cols = df.select_dtypes(include=['object']).columns.tolist()\n",
    "print(categorical_cols)\n"
   ]
  },
  {
   "cell_type": "code",
   "execution_count": null,
   "id": "48940aa4-7b1d-40ac-8821-ea7327f17139",
   "metadata": {},
   "outputs": [],
   "source": [
    "numerical_cols = df.select_dtypes(include=['number']).columns.tolist()\n",
    "print(numerical_cols)\n",
    "\n"
   ]
  },
  {
   "cell_type": "code",
   "execution_count": null,
   "id": "ad849841-e687-40b5-b90c-5942eb46438e",
   "metadata": {},
   "outputs": [],
   "source": [
    "\n",
    "\n",
    "numerical_cols = df.select_dtypes(include=['number']).columns.tolist()\n",
    "\n",
    "\n",
    "plt.figure(figsize=(15, 12))\n",
    "for i, col in enumerate(numerical_cols, 1):\n",
    "    plt.subplot((len(numerical_cols) + 2) // 3, 3, i) \n",
    "    sns.histplot(df[col], kde=True, color='mediumseagreen')\n",
    "    plt.title(f'Distribution of {col}')\n",
    "    plt.xlabel(col)\n",
    "    plt.ylabel('Count')\n",
    "\n",
    "plt.tight_layout()\n",
    "plt.show()\n"
   ]
  },
  {
   "cell_type": "code",
   "execution_count": null,
   "id": "19c89321-09be-4c00-b213-48f6982f8c32",
   "metadata": {},
   "outputs": [],
   "source": [
    "import matplotlib.pyplot as plt\n",
    "import seaborn as sns\n",
    "\n",
    "# Get numerical columns\n",
    "numerical_cols = df.select_dtypes(include=['number']).columns.tolist()\n",
    "\n",
    "# Plotting\n",
    "plt.figure(figsize=(15, 12))\n",
    "for i, col in enumerate(numerical_cols, 1):\n",
    "    plt.subplot((len(numerical_cols) + 2) // 3, 3, i)  # Arrange plots in 3 columns\n",
    "    sns.histplot(df[col], kde=True, color='mediumseagreen')\n",
    "    plt.title(f'Distribution of {col}')\n",
    "    plt.xlabel(col)\n",
    "    plt.ylabel('Count')\n",
    "\n",
    "plt.tight_layout()\n",
    "plt.show()\n"
   ]
  },
  {
   "cell_type": "code",
   "execution_count": null,
   "id": "c161d05a-24ef-4d70-a4c2-b32ef80a9455",
   "metadata": {},
   "outputs": [],
   "source": []
  },
  {
   "cell_type": "code",
   "execution_count": null,
   "id": "26f6dcf4-1a14-409c-87dd-b52f326da2ad",
   "metadata": {},
   "outputs": [],
   "source": [
    "bins = [17, 25, 35, 45, 55, 65, 100]\n",
    "labels = ['17-25', '26-35', '36-45','46-55','56-65', '66+']\n",
    "\n",
    "df['age_group'] = pd.cut(df['age'], bins=bins, labels=labels, right=True, include_lowest=True)\n"
   ]
  },
  {
   "cell_type": "code",
   "execution_count": null,
   "id": "b3322e58-1911-45c0-a2ab-fc3af29cf94b",
   "metadata": {},
   "outputs": [],
   "source": [
    "df['age_group'].value_counts().sort_index()\n"
   ]
  },
  {
   "cell_type": "code",
   "execution_count": null,
   "id": "092193b7-7fbc-4aea-abe7-4f850694b638",
   "metadata": {},
   "outputs": [],
   "source": [
    "sns.countplot(x='y', data=df, palette=sns.color_palette(\"magma\", n_colors=2))\n",
    "plt.title(\"Target Variable Distribution (Client Subscription to Term Deposit)\")\n",
    "plt.show()"
   ]
  },
  {
   "cell_type": "code",
   "execution_count": null,
   "id": "9526eca1-83b0-4cb7-b4b2-22891782f52d",
   "metadata": {},
   "outputs": [],
   "source": [
    "sns.boxplot(x='y', y='duration', data=df)\n",
    "plt.title('Duration by Subscription')\n",
    "plt.show()"
   ]
  },
  {
   "cell_type": "markdown",
   "id": "6f88b720-83c6-4fa7-a5d2-a533c952f06f",
   "metadata": {},
   "source": [
    "People who said \"yes\" to the subscription usually had longer phone calls than those who said \"no\". There are some very long calls in both groups, but the \"yes\" group tends to have higher durations overall.\n",
    "This suggests that if a call lasts longer, the person is more likely to subscribe."
   ]
  },
  {
   "cell_type": "code",
   "execution_count": null,
   "id": "62f2717c-91dc-4742-a73f-01ca1b634780",
   "metadata": {},
   "outputs": [],
   "source": [
    "df.columns"
   ]
  },
  {
   "cell_type": "code",
   "execution_count": null,
   "id": "9fc3669a-1fd8-4186-b509-78c1084dcff9",
   "metadata": {},
   "outputs": [],
   "source": []
  },
  {
   "cell_type": "code",
   "execution_count": null,
   "id": "2675a7c5-932f-4154-b642-f54707be1323",
   "metadata": {},
   "outputs": [],
   "source": [
    "sns.countplot(x='y', data=df, palette=sns.color_palette(\"magma\", n_colors=2))\n",
    "plt.title(\"Target Variable Distribution (Client Subscription to Term Deposit)\")\n",
    "plt.show()"
   ]
  }
 ],
 "metadata": {
  "kernelspec": {
   "display_name": "Python 3 (ipykernel)",
   "language": "python",
   "name": "python3"
  },
  "language_info": {
   "codemirror_mode": {
    "name": "ipython",
    "version": 3
   },
   "file_extension": ".py",
   "mimetype": "text/x-python",
   "name": "python",
   "nbconvert_exporter": "python",
   "pygments_lexer": "ipython3",
   "version": "3.12.7"
  }
 },
 "nbformat": 4,
 "nbformat_minor": 5
}
